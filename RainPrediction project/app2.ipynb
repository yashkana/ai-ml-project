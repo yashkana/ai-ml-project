{
 "cells": [
  {
   "cell_type": "code",
   "execution_count": 2,
   "id": "f5efc434",
   "metadata": {},
   "outputs": [
    {
     "name": "stdout",
     "output_type": "stream",
     "text": [
      "c:\\Users\\yashu\\RainPrediction project\\model1.pickle\n"
     ]
    }
   ],
   "source": [
    "import os\n",
    "import sys\n",
    "import pickle\n",
    "\n",
    "projectabspathname = os.path.abspath('model1.pickle')\n",
    "print(projectabspathname)\n",
    "projectname = 'main.py'\n",
    "projectpickle = open(str(projectabspathname),'wb')\n",
    "pickle.dump(projectname, projectpickle)\n",
    "projectpickle.close()"
   ]
  },
  {
   "cell_type": "code",
   "execution_count": 1,
   "id": "26a27f08",
   "metadata": {},
   "outputs": [
    {
     "name": "stderr",
     "output_type": "stream",
     "text": [
      "C:\\Users\\yashu\\AppData\\Local\\Temp\\ipykernel_8500\\3113912569.py:9: FutureWarning: Dropping of nuisance columns in DataFrame reductions (with 'numeric_only=None') is deprecated; in a future version this will raise TypeError.  Select only valid columns before calling the reduction.\n",
      "  data = data.fillna(data.mean())\n",
      "C:\\Users\\yashu\\AppData\\Local\\Temp\\ipykernel_8500\\3113912569.py:11: FutureWarning: Indexing with multiple keys (implicitly converted to a tuple of keys) will be deprecated, use a list instead.\n",
      "  group = data.groupby('SUBDIVISION')['YEAR','JAN','FEB','MAR','APR','MAY','JUN','JUL','AUG','SEP','OCT','NOV','DEC']\n"
     ]
    }
   ],
   "source": [
    "import numpy as np\n",
    "import pandas as pd\n",
    "import pickle\n",
    "from sklearn import metrics\n",
    "\n",
    "data = pd.read_csv(\"rainfall in india 1901-2015.csv\")\n",
    "# data.head()\n",
    "\n",
    "data = data.fillna(data.mean())\n",
    "\n",
    "group = data.groupby('SUBDIVISION')['YEAR','JAN','FEB','MAR','APR','MAY','JUN','JUL','AUG','SEP','OCT','NOV','DEC']\n",
    "data=group.get_group(('TAMIL NADU'))\n",
    "# data.head()\n",
    "\n",
    "df=data.melt(['YEAR']).reset_index()\n",
    "# df.head()\n",
    "\n",
    "df= df[['YEAR','variable','value']].reset_index().sort_values(by=['YEAR','index'])\n",
    "# df.head()\n",
    "\n",
    "df.columns=['Index','Year','Month','Avg_Rainfall']\n",
    "Month_map={'JAN':1,'FEB':2,'MAR' :3,'APR':4,'MAY':5,'JUN':6,'JUL':7,'AUG':8,'SEP':9,\n",
    "   'OCT':10,'NOV':11,'DEC':12}\n",
    "df['Month']=df['Month'].map(Month_map)\n",
    "# df.head(12)\n",
    "\n",
    "df.drop(columns=\"Index\",inplace=True)\n",
    "\n",
    "X=np.asanyarray(df[['Year','Month']]).astype('int')\n",
    "y=np.asanyarray(df['Avg_Rainfall']).astype('int')\n",
    "\n",
    "from sklearn.model_selection import train_test_split\n",
    "X_train, X_test, y_train, y_test = train_test_split(X, y, test_size=0.3, random_state=10)\n",
    "\n",
    "from sklearn.ensemble import RandomForestRegressor\n",
    "random_forest_model = RandomForestRegressor(max_depth=100, max_features='sqrt', min_samples_leaf=4,\n",
    "                      min_samples_split=10, n_estimators=800)\n",
    "random_forest_model.fit(X_train, y_train)\n",
    "\n",
    "# y_predict = random_forest_model.predict(X_test)\n",
    "\n",
    "# print('MAE:', metrics.mean_absolute_error(y_test,y_predict))\n",
    "# print('MSE:', metrics.mean_squared_error(y_test, y_predict))\n",
    "\n",
    "# print('RMSE:', np.sqrt(metrics.mean_squared_error(y_test, y_predict)))\n",
    "# print(\"-----------Training Accuracy------------\")\n",
    "# print(round(random_forest_model.score(X_train,y_train),3)*100)\n",
    "# print(\"-----------Testing Accuracy------------\")\n",
    "# print(round(random_forest_model.score(X_test,y_test),3)*100)\n",
    "\n",
    "file = open(\"model1.pickle\",\"wb\")\n",
    "pickle.dump(random_forest_model,file)\n",
    "file.close()\n",
    "# print(y_predict)"
   ]
  },
  {
   "cell_type": "code",
   "execution_count": null,
   "id": "27763d34",
   "metadata": {},
   "outputs": [],
   "source": []
  }
 ],
 "metadata": {
  "kernelspec": {
   "display_name": "Python 3 (ipykernel)",
   "language": "python",
   "name": "python3"
  },
  "language_info": {
   "codemirror_mode": {
    "name": "ipython",
    "version": 3
   },
   "file_extension": ".py",
   "mimetype": "text/x-python",
   "name": "python",
   "nbconvert_exporter": "python",
   "pygments_lexer": "ipython3",
   "version": "3.9.12"
  },
  "vscode": {
   "interpreter": {
    "hash": "edb95e37acf108e28a7f95b30a0de26261d54f2745e73e92b6d3e40b3b0fd0f2"
   }
  }
 },
 "nbformat": 4,
 "nbformat_minor": 5
}
